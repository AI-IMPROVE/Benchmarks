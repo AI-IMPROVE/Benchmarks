{
 "cells": [
  {
   "cell_type": "code",
   "execution_count": 1,
   "id": "b66153be",
   "metadata": {},
   "outputs": [],
   "source": [
    "import tensorflow as tf\n",
    "import json\n",
    "import os\n",
    "import numpy as np"
   ]
  },
  {
   "cell_type": "code",
   "execution_count": 2,
   "id": "36683eff",
   "metadata": {},
   "outputs": [],
   "source": [
    "def fit_node(nodes=1, lbatch=16, tsamples=None):\n",
    "    samples_per_node = ( tsamples - (tsamples % nodes) ) / nodes\n",
    "    samples_per_node = samples_per_node - (samples_per_node % lbatch)\n",
    "    print(\"samples per node {}\".format(samples_per_node))"
   ]
  },
  {
   "cell_type": "code",
   "execution_count": 3,
   "id": "8e8312ca",
   "metadata": {},
   "outputs": [],
   "source": [
    "# Set up input files\n",
    "path = '/lambda_stor/data/enums-100-test/'\n",
    "filenames = [\n",
    "    'ml.ADRP_6W02_A_1_H.Orderable_zinc_db_enaHLL.sorted.4col.descriptors.parquet.xform-smiles.csv.reg.00',\n",
    "    #'ml.ADRP_6W02_A_1_H.Orderable_zinc_db_enaHLL.sorted.4col.descriptors.parquet.xform-smiles.csv.reg.01',\n",
    "    #'ml.ADRP_6W02_A_1_H.Orderable_zinc_db_enaHLL.sorted.4col.descriptors.parquet.xform-smiles.csv.reg.02',\n",
    "    #'ml.ADRP_6W02_A_1_H.Orderable_zinc_db_enaHLL.sorted.4col.descriptors.parquet.xform-smiles.csv.reg.03'\n",
    "]\n",
    "for n in range(len(filenames)):\n",
    "    filenames[n] = path + filenames[n]\n"
   ]
  },
  {
   "cell_type": "code",
   "execution_count": 4,
   "id": "768f060b",
   "metadata": {},
   "outputs": [],
   "source": [
    "gpus = tf.config.experimental.list_physical_devices('GPU')\n",
    "for gpu in gpus:\n",
    "    tf.config.experimental.set_memory_growth(gpu, True)"
   ]
  },
  {
   "cell_type": "code",
   "execution_count": 5,
   "id": "7af5f78c",
   "metadata": {},
   "outputs": [
    {
     "name": "stdout",
     "output_type": "stream",
     "text": [
      "{\"cluster\": {\"worker\": [\"rbdgx1.cels.anl.gov:12345\", \"rbdgx2.cels.anl.gov:12346\"]}, \"task\": {\"type\": \"worker\", \"index\": 0}}\n"
     ]
    }
   ],
   "source": [
    "\n",
    "\n",
    "# os.environ['TF_CONFIG'] = json.dumps(tf_config)\n",
    "\n",
    "tf_config = {\n",
    "    'cluster': {\n",
    "        'worker': ['rbdgx1.cels.anl.gov:12345', 'rbdgx2.cels.anl.gov:12346']\n",
    "    },\n",
    "    'task': {'type': 'worker', 'index': 1}\n",
    "}\n",
    "\n",
    "tf_config = {\n",
    "    'cluster': {\n",
    "        'worker': ['rbdgx1.cels.anl.gov:12345', 'rbdgx2.cels.anl.gov:12346']\n",
    "    },\n",
    "    'task': {'type': 'worker', 'index': 0}\n",
    "}\n",
    "os.environ['TF_CONFIG'] = json.dumps(tf_config)\n",
    "\n",
    "num_workers = len(tf_config['cluster']['worker'])\n",
    "print(os.environ['TF_CONFIG'])     "
   ]
  },
  {
   "cell_type": "code",
   "execution_count": 6,
   "id": "e99b3bce",
   "metadata": {},
   "outputs": [
    {
     "name": "stdout",
     "output_type": "stream",
     "text": [
      "INFO:tensorflow:Initializing local devices since in-graph multi-worker training with `MirroredStrategy` is not supported in eager mode. TF_CONFIG will be ignored when when initializing `MirroredStrategy`.\n",
      "INFO:tensorflow:Using MirroredStrategy with devices ('/job:localhost/replica:0/task:0/device:GPU:0', '/job:localhost/replica:0/task:0/device:GPU:1', '/job:localhost/replica:0/task:0/device:GPU:2', '/job:localhost/replica:0/task:0/device:GPU:3', '/job:localhost/replica:0/task:0/device:GPU:4', '/job:localhost/replica:0/task:0/device:GPU:5', '/job:localhost/replica:0/task:0/device:GPU:6', '/job:localhost/replica:0/task:0/device:GPU:7')\n",
      "<class 'tensorflow.python.data.ops.dataset_ops._OptionsDataset'>\n"
     ]
    },
    {
     "name": "stderr",
     "output_type": "stream",
     "text": [
      "2022-08-22 19:19:46.417617: I tensorflow/core/platform/cpu_feature_guard.cc:193] This TensorFlow binary is optimized with oneAPI Deep Neural Network Library (oneDNN) to use the following CPU instructions in performance-critical operations:  AVX2 FMA\n",
      "To enable them in other operations, rebuild TensorFlow with the appropriate compiler flags.\n",
      "2022-08-22 19:19:50.221824: I tensorflow/core/common_runtime/gpu/gpu_device.cc:1532] Created device /job:localhost/replica:0/task:0/device:GPU:0 with 38420 MB memory:  -> device: 0, name: NVIDIA A100-SXM4-40GB, pci bus id: 0000:07:00.0, compute capability: 8.0\n",
      "2022-08-22 19:19:50.224749: I tensorflow/core/common_runtime/gpu/gpu_device.cc:1532] Created device /job:localhost/replica:0/task:0/device:GPU:1 with 38420 MB memory:  -> device: 1, name: NVIDIA A100-SXM4-40GB, pci bus id: 0000:0f:00.0, compute capability: 8.0\n",
      "2022-08-22 19:19:50.227410: I tensorflow/core/common_runtime/gpu/gpu_device.cc:1532] Created device /job:localhost/replica:0/task:0/device:GPU:2 with 38420 MB memory:  -> device: 2, name: NVIDIA A100-SXM4-40GB, pci bus id: 0000:47:00.0, compute capability: 8.0\n",
      "2022-08-22 19:19:50.230064: I tensorflow/core/common_runtime/gpu/gpu_device.cc:1532] Created device /job:localhost/replica:0/task:0/device:GPU:3 with 38420 MB memory:  -> device: 3, name: NVIDIA A100-SXM4-40GB, pci bus id: 0000:4e:00.0, compute capability: 8.0\n",
      "2022-08-22 19:19:50.232681: I tensorflow/core/common_runtime/gpu/gpu_device.cc:1532] Created device /job:localhost/replica:0/task:0/device:GPU:4 with 38420 MB memory:  -> device: 4, name: NVIDIA A100-SXM4-40GB, pci bus id: 0000:87:00.0, compute capability: 8.0\n",
      "2022-08-22 19:19:50.235296: I tensorflow/core/common_runtime/gpu/gpu_device.cc:1532] Created device /job:localhost/replica:0/task:0/device:GPU:5 with 38420 MB memory:  -> device: 5, name: NVIDIA A100-SXM4-40GB, pci bus id: 0000:90:00.0, compute capability: 8.0\n",
      "2022-08-22 19:19:50.237929: I tensorflow/core/common_runtime/gpu/gpu_device.cc:1532] Created device /job:localhost/replica:0/task:0/device:GPU:6 with 38420 MB memory:  -> device: 6, name: NVIDIA A100-SXM4-40GB, pci bus id: 0000:b7:00.0, compute capability: 8.0\n",
      "2022-08-22 19:19:50.240535: I tensorflow/core/common_runtime/gpu/gpu_device.cc:1532] Created device /job:localhost/replica:0/task:0/device:GPU:7 with 38420 MB memory:  -> device: 7, name: NVIDIA A100-SXM4-40GB, pci bus id: 0000:bd:00.0, compute capability: 8.0\n"
     ]
    }
   ],
   "source": [
    "mirrored_strategy = tf.distribute.MirroredStrategy()\n",
    "\n",
    "\n",
    "# Create a tf.data.Dataset object.\n",
    "dataset = tf.data.experimental.CsvDataset(\n",
    "    filenames,\n",
    "    [tf.float32, tf.string]\n",
    ")\n",
    "\n",
    "options = tf.data.Options()\n",
    "options.experimental_distribute.auto_shard_policy = tf.data.experimental.AutoShardPolicy.FILE\n",
    "dataset = dataset.with_options(options)\n",
    "print( type(dataset) )"
   ]
  },
  {
   "cell_type": "code",
   "execution_count": 7,
   "id": "43284f00",
   "metadata": {},
   "outputs": [],
   "source": [
    "# iterator = iter(dataset)\n",
    "# iterator.get_next()\n",
    "# iterator.get_next()[0]\n",
    "# iterator.get_next()[1]\n",
    "# x = iterator.get_next()[1]\n",
    "# y = iterator.get_next()[0]"
   ]
  },
  {
   "cell_type": "code",
   "execution_count": 8,
   "id": "a38fdbe5",
   "metadata": {},
   "outputs": [
    {
     "data": {
      "text/plain": [
       "array([[b'13.835799',\n",
       "        b'c1cc2c(cc1F)c(c[nH]2)CCNC(=O)[C@@H]3CCC[N@](C3)c4c5c([nH]cn5)ncn4'],\n",
       "       [b'13.835799',\n",
       "        b'c1cc2c(cc1F)c(c[nH]2)CCNC(=O)[C@@H]3CCC[N@](C3)c4c5c([nH]cn5)ncn4'],\n",
       "       [b'13.633498',\n",
       "        b'c1ccc(cc1)OCC[C@@]2(CCC[N@@](C2)c3c4cc[nH]c4ncn3)CO'],\n",
       "       ...,\n",
       "       [b'3.751021',\n",
       "        b'Cc1cc(n2c(n1)c3c(n2)NC(=O)C[C@@H]3c4ccc5c(c4)nnn5C)C'],\n",
       "       [b'3.699315',\n",
       "        b'CCOc1ccc(cc1)c2nc(cs2)CC(=O)Nc3nc(c(s3)SCC(=O)N)C'],\n",
       "       [b'3.727015', b'c1cnc(nc1)N2CCC[C@H]2c3cc([nH]n3)CCO']],\n",
       "      dtype='|S150')"
      ]
     },
     "execution_count": 8,
     "metadata": {},
     "output_type": "execute_result"
    }
   ],
   "source": [
    "import numpy as np\n",
    "np_dataset = np.array(list(dataset.as_numpy_iterator()))\n",
    "np_dataset\n"
   ]
  },
  {
   "cell_type": "code",
   "execution_count": 9,
   "id": "465f0cdc",
   "metadata": {},
   "outputs": [],
   "source": [
    "x_train = np_dataset[:,1]\n",
    "y_train = np_dataset[:,0].reshape(-1,1)"
   ]
  },
  {
   "cell_type": "code",
   "execution_count": 13,
   "id": "3b16467e",
   "metadata": {},
   "outputs": [
    {
     "data": {
      "text/plain": [
       "500000"
      ]
     },
     "execution_count": 13,
     "metadata": {},
     "output_type": "execute_result"
    }
   ],
   "source": [
    "x_train.shape[0]"
   ]
  },
  {
   "cell_type": "code",
   "execution_count": 14,
   "id": "ea0cbb90",
   "metadata": {},
   "outputs": [],
   "source": [
    "vocab_size = 40000  # \n",
    "maxlen = 250  # \n",
    "\n",
    "vectorize_layer = tf.keras.layers.TextVectorization(\n",
    "    output_mode='int',\n",
    "    standardize=None,\n",
    "    max_tokens=vocab_size,\n",
    "    split='character',\n",
    "    output_sequence_length=maxlen,\n",
    "    pad_to_max_tokens=True\n",
    ")\n",
    "samples=x_train.shape[0]\n",
    "batch_size=1000\n",
    "steps=samples/batch_size\n",
    "vectorize_layer.adapt(x_train, batch_size=batch_size, steps=steps)"
   ]
  },
  {
   "cell_type": "code",
   "execution_count": 15,
   "id": "11bda36c",
   "metadata": {},
   "outputs": [],
   "source": [
    "fn = lambda x: vectorize_layer(x)\n",
    "x_train = fn(x_train)"
   ]
  },
  {
   "cell_type": "code",
   "execution_count": 16,
   "id": "5b026812",
   "metadata": {},
   "outputs": [
    {
     "name": "stdout",
     "output_type": "stream",
     "text": [
      "tf.Tensor(\n",
      "[[2 9 2 ... 0 0 0]\n",
      " [2 9 2 ... 0 0 0]\n",
      " [2 9 2 ... 0 0 0]\n",
      " ...\n",
      " [3 2 9 ... 0 0 0]\n",
      " [3 3 6 ... 0 0 0]\n",
      " [2 9 2 ... 0 0 0]], shape=(500000, 250), dtype=int64)\n",
      "[[b'13.835799']\n",
      " [b'13.835799']\n",
      " [b'13.633498']\n",
      " ...\n",
      " [b'3.751021']\n",
      " [b'3.699315']\n",
      " [b'3.727015']]\n"
     ]
    }
   ],
   "source": [
    "print(x_train)\n",
    "print(y_train)"
   ]
  },
  {
   "cell_type": "code",
   "execution_count": null,
   "id": "405eb145",
   "metadata": {},
   "outputs": [],
   "source": []
  }
 ],
 "metadata": {
  "kernelspec": {
   "display_name": "Python 3 (ipykernel)",
   "language": "python",
   "name": "python3"
  },
  "language_info": {
   "codemirror_mode": {
    "name": "ipython",
    "version": 3
   },
   "file_extension": ".py",
   "mimetype": "text/x-python",
   "name": "python",
   "nbconvert_exporter": "python",
   "pygments_lexer": "ipython3",
   "version": "3.8.13"
  }
 },
 "nbformat": 4,
 "nbformat_minor": 5
}
